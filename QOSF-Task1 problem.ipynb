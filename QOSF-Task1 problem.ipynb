{
 "cells": [
  {
   "cell_type": "code",
   "execution_count": 1,
   "metadata": {},
   "outputs": [],
   "source": [
    "from qiskit import QuantumCircuit\n",
    "from qiskit.circuit import ParameterVector\n",
    "from qiskit import QuantumCircuit,execute,Aer\n",
    "from qiskit.quantum_info.states.random import random_statevector\n",
    "import numpy as np\n",
    "import cmath\n",
    "from math import pi\n",
    "from random import uniform\n",
    "from scipy.optimize import minimize\n",
    "import itertools"
   ]
  },
  {
   "cell_type": "code",
   "execution_count": 2,
   "metadata": {},
   "outputs": [],
   "source": [
    "# CZ coupling map\n",
    "cz_coupling= list(itertools.combinations(range(4), 2))\n",
    "\n",
    "def layer_block(k):\n",
    "    layer=QuantumCircuit(4)\n",
    "    param_idx = 0\n",
    "    for d in range(k):\n",
    "        for q_i in range(4):\n",
    "            layer.rx(p[param_idx],q_i)     \n",
    "            param_idx+=1\n",
    "        for q_i in range(4):\n",
    "            layer.rz(p[param_idx],q_i)\n",
    "            param_idx+=1\n",
    "        for cz_index in cz_coupling:\n",
    "            layer.cz(cz_index[0],cz_index[1])   \n",
    "        layer.barrier()\n",
    "    return layer"
   ]
  },
  {
   "cell_type": "code",
   "execution_count": 3,
   "metadata": {},
   "outputs": [],
   "source": [
    "backend = Aer.get_backend('statevector_simulator') \n",
    "\n",
    "def layer_result(circ,angle):\n",
    "    layer_bind=circ.bind_parameters({p:angle})\n",
    "    out_state=execute(layer_bind,backend).result().get_statevector()\n",
    "    return out_state"
   ]
  },
  {
   "cell_type": "code",
   "execution_count": 4,
   "metadata": {},
   "outputs": [],
   "source": [
    "def state_distance(guess):\n",
    "    ans_circ=layer_block(num_layers)\n",
    "    ans=layer_result(ans_circ,guess)\n",
    "    dif=np.linalg.norm(ans-phi)\n",
    "    return dif"
   ]
  },
  {
   "cell_type": "code",
   "execution_count": 5,
   "metadata": {
    "scrolled": false
   },
   "outputs": [
    {
     "name": "stdout",
     "output_type": "stream",
     "text": [
      "phi =  [ 0.01089917+0.06365367j -0.21018915-0.44653684j  0.34681983+0.17669323j\n",
      "  0.19206833+0.07673793j  0.09616705+0.08624133j  0.31703637+0.05711424j\n",
      "  0.0887435 +0.37638655j -0.00187578-0.05484349j  0.00733227-0.01763622j\n",
      " -0.12188108-0.03851506j -0.01178901-0.12759583j -0.15675131-0.10080962j\n",
      "  0.00709287+0.02848929j  0.35879452-0.20050619j  0.10457956+0.00700162j\n",
      " -0.08932367+0.16834123j]\n"
     ]
    }
   ],
   "source": [
    "phi=random_statevector(dims=16).data\n",
    "print('phi = ',phi)"
   ]
  },
  {
   "cell_type": "code",
   "execution_count": 6,
   "metadata": {},
   "outputs": [],
   "source": [
    "number_layers=[x for x in range(1,11)]\n",
    "parameter_set=[]\n",
    "converge_result=[]\n",
    "status=[]"
   ]
  },
  {
   "cell_type": "code",
   "execution_count": 7,
   "metadata": {},
   "outputs": [],
   "source": [
    "for i in range(len(number_layers)):\n",
    "    num_layers=number_layers[i]\n",
    "    p = ParameterVector('p', 8*num_layers) \n",
    "    angle = np.random.uniform(0,2*pi,8*num_layers)\n",
    "    bnds=[(0,2*pi)]*num_layers*8\n",
    "    opt_ans=minimize(state_distance,x0=angle,method='L-BFGS-B',bounds=bnds)\n",
    "    converge_result.append(opt_ans.fun)\n",
    "    parameter_set.append(opt_ans.x)     \n",
    "    status.append(opt_ans.success)"
   ]
  },
  {
   "cell_type": "code",
   "execution_count": 8,
   "metadata": {},
   "outputs": [
    {
     "data": {
      "image/png": "[encoded data removed]",
      "text/plain": [
       "<Figure size 432x288 with 1 Axes>"
      ]
     },
     "metadata": {
      "needs_background": "light"
     },
     "output_type": "display_data"
    }
   ],
   "source": [
    "%matplotlib inline\n",
    "import matplotlib.pyplot as plt\n",
    "#plt.figure(figsize=(14,8))\n",
    "plt.xlabel('Layer (L)',fontsize=18)\n",
    "plt.ylabel('State Distance ($\\epsilon$)',fontsize=18)\n",
    "plt.plot(number_layers, converge_result,'rs-',label='Result(CZ)')\n",
    "my_x_ticks = np.arange(1, 11, 1)\n",
    "plt.xticks(my_x_ticks,fontsize=14)\n",
    "plt.yscale('log')\n",
    "#plt.xticks(fontsize=14)\n",
    "plt.yticks(fontsize=14)\n",
    "plt.legend()\n",
    "plt.show()"
   ]
  },
  {
   "cell_type": "code",
   "execution_count": null,
   "metadata": {},
   "outputs": [],
   "source": []
  }
 ],
 "metadata": {
  "kernelspec": {
   "display_name": "Python 3",
   "language": "python",
   "name": "python3"
  },
  "language_info": {
   "codemirror_mode": {
    "name": "ipython",
    "version": 3
   },
   "file_extension": ".py",
   "mimetype": "text/x-python",
   "name": "python",
   "nbconvert_exporter": "python",
   "pygments_lexer": "ipython3",
   "version": "3.7.9"
  }
 },
 "nbformat": 4,
 "nbformat_minor": 4
}
