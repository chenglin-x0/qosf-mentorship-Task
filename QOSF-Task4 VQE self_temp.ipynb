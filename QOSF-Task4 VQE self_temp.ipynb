{
 "cells": [
  {
   "cell_type": "markdown",
   "metadata": {},
   "source": [
    "####  $H=\\begin{pmatrix}1 & 0 &0 &0 \\\\ 0 &0&-1&0 \\\\0&-1&0&0\\\\0&0&0&1 \\end{pmatrix} =0.5 I \\otimes I + 0.5 Z \\otimes Z -0.5 X \\otimes X -0.5 Y \\otimes Y$ "
   ]
  },
  {
   "cell_type": "code",
   "execution_count": 1,
   "metadata": {},
   "outputs": [],
   "source": [
    "from qiskit import QuantumCircuit,execute,Aer\n",
    "import numpy as np\n",
    "import cmath\n",
    "from math import pi\n",
    "from random import uniform"
   ]
  },
  {
   "cell_type": "code",
   "execution_count": 2,
   "metadata": {},
   "outputs": [],
   "source": [
    "def vqe_ansatz(theta):\n",
    "    # Create Quantum Circuit\n",
    "    ansatz=QuantumCircuit(2,2)\n",
    "    \n",
    "    # Apply Ry gate\n",
    "    ansatz.h(0)    \n",
    "    ansatz.cx(0,1)\n",
    "    ansatz.rx(theta,0)\n",
    "    \n",
    "    # Return Quantum Circuit\n",
    "    return ansatz"
   ]
  },
  {
   "cell_type": "code",
   "execution_count": 3,
   "metadata": {},
   "outputs": [],
   "source": [
    "### Select simulator\n",
    "QC_simulator = Aer.get_backend('qasm_simulator')\n",
    "\n",
    "# Define number of measurments shots\n",
    "sample_shots=10000\n",
    "\n",
    "def expval(paras):\n",
    "    \n",
    "    vqe_ans=0.5\n",
    "\n",
    "    ###### ZZ \n",
    "    # call ansatz \n",
    "    vqe=vqe_ansatz(paras)    \n",
    "    # measure in ZZ-basis\n",
    "    vqe.measure([0,1],[0,1])\n",
    "    # Compile and execute\n",
    "    job_qasm = execute(vqe, QC_simulator,shots=sample_shots)\n",
    "    result_sim = job_qasm.result().get_counts()    \n",
    "\n",
    "    # Calculate expectation\n",
    "    P_even=result_sim.get('00',0)+result_sim.get('11',0)\n",
    "    P_odd=result_sim.get('10',0)+result_sim.get('01',0)\n",
    "    temp=(P_even-P_odd)/sample_shots\n",
    "    vqe_ans+=temp*0.5\n",
    "    \n",
    "    \n",
    "    \n",
    "    ####### XX\n",
    "    # call ansatz \n",
    "    vqe=vqe_ansatz(paras)    \n",
    "    vqe.h([0,1])\n",
    "    # measure in XX-basis\n",
    "    vqe.measure([0,1],[0,1])\n",
    "    # Compile and execute\n",
    "    job_qasm = execute(vqe, QC_simulator,shots=sample_shots)\n",
    "    result_sim = job_qasm.result().get_counts()    \n",
    "\n",
    "    # Calculate expectation\n",
    "    P_even=result_sim.get('00',0)+result_sim.get('11',0)\n",
    "    P_odd=result_sim.get('10',0)+result_sim.get('01',0)\n",
    "    temp=(P_even-P_odd)/sample_shots\n",
    "    vqe_ans+=temp*(-0.5)\n",
    "    \n",
    "\n",
    "\n",
    "    ####### YY\n",
    "    # call ansatz \n",
    "    vqe=vqe_ansatz(paras)    \n",
    "    vqe.rx(pi/2,0)\n",
    "    vqe.rx(pi/2,1)\n",
    "    # measure in YY-basis\n",
    "    vqe.measure([0,1],[0,1])\n",
    "    # Compile and execute\n",
    "    job_qasm = execute(vqe, QC_simulator,shots=sample_shots)\n",
    "    result_sim = job_qasm.result().get_counts()    \n",
    "\n",
    "    # Calculate expectation\n",
    "    P_even=result_sim.get('00',0)+result_sim.get('11',0)\n",
    "    P_odd=result_sim.get('10',0)+result_sim.get('01',0)\n",
    "    temp=(P_even-P_odd)/sample_shots\n",
    "    vqe_ans+=temp*(-0.5)\n",
    "    \n",
    "    \n",
    "\n",
    "    return vqe_ans"
   ]
  },
  {
   "cell_type": "code",
   "execution_count": 4,
   "metadata": {},
   "outputs": [
    {
     "data": {
      "image/png": "[encoded data removed]",
      "text/plain": [
       "<Figure size 432x288 with 1 Axes>"
      ]
     },
     "metadata": {
      "needs_background": "light"
     },
     "output_type": "display_data"
    }
   ],
   "source": [
    "theta_range = np.linspace(0.0, 2 * np.pi, 100)\n",
    "vqe_result=[expval(params) for params in theta_range]\n",
    "\n",
    "import matplotlib.pyplot as plt\n",
    "plt.xlabel('theta')\n",
    "plt.ylabel('Expectation value')\n",
    "plt.plot(theta_range, vqe_result)\n",
    "plt.show()"
   ]
  }
 ],
 "metadata": {
  "kernelspec": {
   "display_name": "Python 3",
   "language": "python",
   "name": "python3"
  },
  "language_info": {
   "codemirror_mode": {
    "name": "ipython",
    "version": 3
   },
   "file_extension": ".py",
   "mimetype": "text/x-python",
   "name": "python",
   "nbconvert_exporter": "python",
   "pygments_lexer": "ipython3",
   "version": "3.7.7"
  }
 },
 "nbformat": 4,
 "nbformat_minor": 4
}
