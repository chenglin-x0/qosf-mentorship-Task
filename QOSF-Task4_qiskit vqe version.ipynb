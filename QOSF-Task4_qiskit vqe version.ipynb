{
 "cells": [
  {
   "cell_type": "code",
   "execution_count": 1,
   "metadata": {},
   "outputs": [
    {
     "data": {
      "text/html": [
       "<h3>Version Information</h3><table><tr><th>Qiskit Software</th><th>Version</th></tr><tr><td>Qiskit</td><td>0.21.0</td></tr><tr><td>Terra</td><td>0.15.2</td></tr><tr><td>Aer</td><td>0.6.1</td></tr><tr><td>Ignis</td><td>0.4.0</td></tr><tr><td>Aqua</td><td>0.7.5</td></tr><tr><td>IBM Q Provider</td><td>0.9.0</td></tr><tr><th>System information</th></tr><tr><td>Python</td><td>3.7.7 (default, May  7 2020, 21:25:33) \n",
       "[GCC 7.3.0]</td></tr><tr><td>OS</td><td>Linux</td></tr><tr><td>CPUs</td><td>6</td></tr><tr><td>Memory (Gb)</td><td>251.8483543395996</td></tr><tr><td colspan='2'>Thu Sep 24 17:43:41 2020 CST</td></tr></table>"
      ],
      "text/plain": [
       "<IPython.core.display.HTML object>"
      ]
     },
     "metadata": {},
     "output_type": "display_data"
    }
   ],
   "source": [
    "import qiskit.tools.jupyter\n",
    "%qiskit_version_table"
   ]
  },
  {
   "cell_type": "markdown",
   "metadata": {},
   "source": [
    "### Hamiltonian"
   ]
  },
  {
   "cell_type": "markdown",
   "metadata": {},
   "source": [
    "####  $H=\\begin{pmatrix}1 & 0 &0 &0 \\\\ 0 &0&-1&0 \\\\0&-1&0&0\\\\0&0&0&1 \\end{pmatrix} =0.5 I \\otimes I + 0.5 Z \\otimes Z -0.5 X \\otimes X -0.5 Y \\otimes Y$ "
   ]
  },
  {
   "cell_type": "code",
   "execution_count": 2,
   "metadata": {},
   "outputs": [],
   "source": [
    "from qiskit.quantum_info import Operator\n",
    "from qiskit.aqua.operators import WeightedPauliOperator,  X, Z, I\n",
    "from qiskit.aqua.components.optimizers import COBYLA\n",
    "from qiskit.aqua.algorithms import VQE"
   ]
  },
  {
   "cell_type": "code",
   "execution_count": 3,
   "metadata": {},
   "outputs": [
    {
     "name": "stdout",
     "output_type": "stream",
     "text": [
      "II\t(0.5+0j)\n",
      "ZZ\t(0.5+0j)\n",
      "YY\t(-0.5+0j)\n",
      "XX\t(-0.5+0j)\n",
      "\n"
     ]
    }
   ],
   "source": [
    "pauli_dict = {\n",
    "    'paulis': [{\"coeff\": {\"imag\": 0.0, \"real\": 0.5}, \"label\": \"II\"},\n",
    "              {\"coeff\": {\"imag\": 0.0, \"real\": 0.5}, \"label\": \"ZZ\"},\n",
    "              {\"coeff\": {\"imag\": 0.0, \"real\": -0.5}, \"label\": \"YY\"},\n",
    "               {\"coeff\": {\"imag\": 0.0, \"real\": -0.5}, \"label\": \"XX\"}\n",
    "              ]\n",
    "}\n",
    "qubit_op = WeightedPauliOperator.from_dict(pauli_dict)\n",
    "print(qubit_op.print_details())"
   ]
  },
  {
   "cell_type": "markdown",
   "metadata": {},
   "source": [
    "### Circuit"
   ]
  },
  {
   "cell_type": "code",
   "execution_count": 4,
   "metadata": {},
   "outputs": [],
   "source": [
    "from qiskit import QuantumCircuit,execute,Aer\n",
    "import numpy as np\n",
    "import cmath\n",
    "from math import pi\n",
    "from random import uniform"
   ]
  },
  {
   "cell_type": "code",
   "execution_count": 5,
   "metadata": {},
   "outputs": [
    {
     "data": {
      "text/plain": [
       "<qiskit.circuit.instructionset.InstructionSet at 0x7fa55ac66dd0>"
      ]
     },
     "execution_count": 5,
     "metadata": {},
     "output_type": "execute_result"
    }
   ],
   "source": [
    "from qiskit.circuit import ParameterVector\n",
    "p = ParameterVector('p', 1)  \n",
    "\n",
    "ansatz=QuantumCircuit(2)\n",
    "ansatz.h(0)\n",
    "ansatz.cx(0,1)\n",
    "ansatz.rx(p[0],0)"
   ]
  },
  {
   "cell_type": "code",
   "execution_count": 6,
   "metadata": {},
   "outputs": [
    {
     "data": {
      "image/png": "[encoded data removed]",
      "text/plain": [
       "<Figure size 321.232x144.48 with 1 Axes>"
      ]
     },
     "execution_count": 6,
     "metadata": {},
     "output_type": "execute_result"
    }
   ],
   "source": [
    "from qiskit.circuit import Parameter\n",
    "var_circ=ansatz\n",
    "var_circ.draw(output='mpl',plot_barriers=0)"
   ]
  },
  {
   "cell_type": "code",
   "execution_count": 7,
   "metadata": {},
   "outputs": [],
   "source": [
    "optimizer = COBYLA(maxiter=100)\n",
    "backend = Aer.get_backend('statevector_simulator')\n",
    "vqe = VQE(operator=qubit_op, optimizer=optimizer, quantum_instance=backend)"
   ]
  },
  {
   "cell_type": "code",
   "execution_count": 8,
   "metadata": {},
   "outputs": [
    {
     "name": "stdout",
     "output_type": "stream",
     "text": [
      "VQE: -0.9999999910500572\n"
     ]
    }
   ],
   "source": [
    "vqe.var_form = var_circ\n",
    "result = vqe.compute_minimum_eigenvalue()\n",
    "print('VQE:', result.eigenvalue.real)"
   ]
  }
 ],
 "metadata": {
  "kernelspec": {
   "display_name": "Python 3",
   "language": "python",
   "name": "python3"
  },
  "language_info": {
   "codemirror_mode": {
    "name": "ipython",
    "version": 3
   },
   "file_extension": ".py",
   "mimetype": "text/x-python",
   "name": "python",
   "nbconvert_exporter": "python",
   "pygments_lexer": "ipython3",
   "version": "3.7.7"
  }
 },
 "nbformat": 4,
 "nbformat_minor": 4
}
