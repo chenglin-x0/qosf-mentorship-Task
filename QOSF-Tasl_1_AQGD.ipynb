{
 "cells": [
  {
   "cell_type": "code",
   "execution_count": 1,
   "metadata": {},
   "outputs": [],
   "source": [
    "from qiskit import QuantumCircuit\n",
    "from qiskit.circuit import ParameterVector\n",
    "from qiskit import QuantumCircuit,execute,Aer\n",
    "from qiskit.quantum_info.states.random import random_statevector\n",
    "import numpy as np\n",
    "import cmath\n",
    "from math import pi\n",
    "from random import uniform\n",
    "from scipy.optimize import minimize\n",
    "import itertools\n",
    "from qiskit.aqua.components.optimizers import AQGD"
   ]
  },
  {
   "cell_type": "code",
   "execution_count": 2,
   "metadata": {},
   "outputs": [],
   "source": [
    "# CZ coupling map\n",
    "cz_coupling= list(itertools.combinations(range(4), 2))\n",
    "\n",
    "def layer_block(k):\n",
    "    layer=QuantumCircuit(4)\n",
    "    param_idx = 0\n",
    "    for d in range(k):\n",
    "        for q_i in range(4):\n",
    "            layer.rx(p[param_idx],q_i)     \n",
    "            param_idx+=1\n",
    "        for q_i in range(4):\n",
    "            layer.rz(p[param_idx],q_i)\n",
    "            param_idx+=1\n",
    "        for cz_index in cz_coupling:\n",
    "            layer.cz(cz_index[0],cz_index[1])   \n",
    "        layer.barrier()\n",
    "    return layer"
   ]
  },
  {
   "cell_type": "code",
   "execution_count": 3,
   "metadata": {},
   "outputs": [],
   "source": [
    "backend = Aer.get_backend('statevector_simulator') \n",
    "\n",
    "def layer_result(circ,angle):\n",
    "    layer_bind=circ.bind_parameters({p:angle})\n",
    "    out_state=execute(layer_bind,backend).result().get_statevector()\n",
    "    return out_state"
   ]
  },
  {
   "cell_type": "code",
   "execution_count": 4,
   "metadata": {},
   "outputs": [],
   "source": [
    "def state_distance(guess):\n",
    "    ans_circ=layer_block(num_layers)\n",
    "    ans=layer_result(ans_circ,guess)\n",
    "    dif=np.linalg.norm(ans-phi)\n",
    "    return dif"
   ]
  },
  {
   "cell_type": "code",
   "execution_count": 5,
   "metadata": {
    "scrolled": false
   },
   "outputs": [
    {
     "name": "stdout",
     "output_type": "stream",
     "text": [
      "phi =  [-0.09277405+0.32055939j  0.16264942+0.25857424j -0.10259094-0.12542528j\n",
      " -0.08336064+0.2623902j   0.22429436-0.00705334j  0.11522327+0.06798578j\n",
      " -0.1213029 +0.23689407j -0.13389589-0.03909304j  0.02520009+0.30415047j\n",
      " -0.25713867-0.01311655j  0.03156641+0.1160653j   0.03669233-0.06752242j\n",
      "  0.15860771+0.34764398j -0.22588653-0.13158001j -0.28488384-0.2346375j\n",
      " -0.01262358-0.06471203j]\n"
     ]
    }
   ],
   "source": [
    "phi=random_statevector(dims=16).data\n",
    "print('phi = ',phi)"
   ]
  },
  {
   "cell_type": "code",
   "execution_count": 6,
   "metadata": {},
   "outputs": [],
   "source": [
    "number_layers=[x for x in range(1,11)]\n",
    "parameter_set=[]\n",
    "converge_result=[]\n",
    "status=[]\n",
    "optimizer=AQGD(maxiter=1000,eta=1.1)"
   ]
  },
  {
   "cell_type": "code",
   "execution_count": 7,
   "metadata": {},
   "outputs": [],
   "source": [
    "for i in range(len(number_layers)):\n",
    "    num_layers=number_layers[i]\n",
    "    p = ParameterVector('p', 8*num_layers) \n",
    "    angle = np.random.uniform(0,2*pi,8*num_layers)\n",
    "    bnds=[(0,2*pi)]*num_layers*8\n",
    "    #opt_ans=minimize(state_distance,x0=angle,method='L-BFGS-B',bounds=bnds)\n",
    "    #converge_result.append(opt_ans.fun)\n",
    "    #parameter_set.append(opt_ans.x)     \n",
    "    #status.append(opt_ans.success)\n",
    "    ans=optimizer.optimize(objective_function=state_distance,initial_point=angle,num_vars=8*num_layers,)\n",
    "    converge_result.append(ans[1])\n",
    "    status.append(ans[2])\n",
    "    parameter_set.append(ans[0])"
   ]
  },
  {
   "cell_type": "code",
   "execution_count": 8,
   "metadata": {},
   "outputs": [
    {
     "data": {
      "image/png": "[encoded data removed]",
      "text/plain": [
       "<Figure size 432x288 with 1 Axes>"
      ]
     },
     "metadata": {
      "needs_background": "light"
     },
     "output_type": "display_data"
    }
   ],
   "source": [
    "%matplotlib inline\n",
    "import matplotlib.pyplot as plt\n",
    "#plt.figure(figsize=(14,8))\n",
    "plt.xlabel('Layer (L)',fontsize=18)\n",
    "plt.ylabel('State Distance ($\\epsilon$)',fontsize=18)\n",
    "plt.plot(number_layers, converge_result,'r*--',label='Result(CZ)')\n",
    "my_x_ticks = np.arange(1, 11, 1)\n",
    "plt.xticks(my_x_ticks,fontsize=14)\n",
    "plt.yscale('log')\n",
    "#plt.xticks(fontsize=14)\n",
    "plt.yticks(fontsize=14)\n",
    "plt.legend()\n",
    "plt.show()"
   ]
  },
  {
   "cell_type": "code",
   "execution_count": null,
   "metadata": {},
   "outputs": [],
   "source": []
  }
 ],
 "metadata": {
  "kernelspec": {
   "display_name": "Python 3",
   "language": "python",
   "name": "python3"
  },
  "language_info": {
   "codemirror_mode": {
    "name": "ipython",
    "version": 3
   },
   "file_extension": ".py",
   "mimetype": "text/x-python",
   "name": "python",
   "nbconvert_exporter": "python",
   "pygments_lexer": "ipython3",
   "version": "3.7.9"
  }
 },
 "nbformat": 4,
 "nbformat_minor": 4
}
