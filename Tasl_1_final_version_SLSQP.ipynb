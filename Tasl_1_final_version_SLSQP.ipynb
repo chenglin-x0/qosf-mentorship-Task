{
 "cells": [
  {
   "cell_type": "code",
   "execution_count": 1,
   "metadata": {},
   "outputs": [],
   "source": [
    "from qiskit import QuantumCircuit\n",
    "from qiskit.circuit import ParameterVector\n",
    "from qiskit import QuantumCircuit,execute,Aer\n",
    "from qiskit.quantum_info.states.random import random_statevector\n",
    "import numpy as np\n",
    "import cmath\n",
    "from math import pi\n",
    "from random import uniform\n",
    "from scipy.optimize import minimize\n",
    "import itertools\n",
    "from qiskit.aqua.components.optimizers import AQGD"
   ]
  },
  {
   "cell_type": "code",
   "execution_count": 2,
   "metadata": {},
   "outputs": [],
   "source": [
    "# CZ coupling map\n",
    "cz_coupling= list(itertools.combinations(range(4), 2))\n",
    "\n",
    "def layer_block(k):\n",
    "    layer=QuantumCircuit(4)\n",
    "    param_idx = 0\n",
    "    for d in range(k):\n",
    "        for q_i in range(4):\n",
    "            layer.rx(p[param_idx],q_i)     \n",
    "            param_idx+=1\n",
    "        for q_i in range(4):\n",
    "            layer.rz(p[param_idx],q_i)\n",
    "            param_idx+=1\n",
    "        for cz_index in cz_coupling:\n",
    "            layer.cz(cz_index[0],cz_index[1])   \n",
    "        layer.barrier()\n",
    "    return layer"
   ]
  },
  {
   "cell_type": "code",
   "execution_count": 3,
   "metadata": {},
   "outputs": [],
   "source": [
    "backend = Aer.get_backend('statevector_simulator') \n",
    "\n",
    "def layer_result(circ,angle):\n",
    "    layer_bind=circ.bind_parameters({p:angle})\n",
    "    out_state=execute(layer_bind,backend).result().get_statevector(decimals=6)\n",
    "    return out_state"
   ]
  },
  {
   "cell_type": "code",
   "execution_count": 4,
   "metadata": {},
   "outputs": [],
   "source": [
    "def state_distance(guess):\n",
    "    ans_circ=layer_block(num_layers)\n",
    "    ans=layer_result(ans_circ,guess)\n",
    "    dif=np.linalg.norm(ans-phi)\n",
    "    return dif"
   ]
  },
  {
   "cell_type": "code",
   "execution_count": 5,
   "metadata": {
    "scrolled": false
   },
   "outputs": [
    {
     "name": "stdout",
     "output_type": "stream",
     "text": [
      "phi =  [ 0.00252004-0.19689983j  0.24223627+0.14843834j  0.15944866-0.02652774j\n",
      "  0.00726271+0.02651641j  0.11044643+0.014327j   -0.19737711-0.20657687j\n",
      " -0.31640198-0.10540717j -0.11062279-0.05346119j  0.15396199+0.46750402j\n",
      "  0.0660578 +0.0297914j   0.20524518-0.25124078j -0.09584207+0.00176186j\n",
      " -0.02990602+0.08471515j  0.19673663+0.30199951j  0.13984515+0.27602377j\n",
      " -0.15843515-0.11179092j]\n"
     ]
    }
   ],
   "source": [
    "phi=random_statevector(dims=16).data\n",
    "print('phi = ',phi)"
   ]
  },
  {
   "cell_type": "code",
   "execution_count": 6,
   "metadata": {},
   "outputs": [],
   "source": [
    "number_layers=[x for x in range(1,9)]\n",
    "parameter_set=[]\n",
    "converge_result=[]\n",
    "status=[]\n",
    "optimizer=AQGD(maxiter=1000,eta=1.1)"
   ]
  },
  {
   "cell_type": "code",
   "execution_count": 7,
   "metadata": {},
   "outputs": [
    {
     "name": "stdout",
     "output_type": "stream",
     "text": [
      "Number of Layer : 1\n",
      "Optimize result :  1.2885461976092538 \n",
      "\n",
      "Number of Layer : 2\n",
      "Optimize result :  0.7132620455333296 \n",
      "\n",
      "Number of Layer : 3\n",
      "Optimize result :  0.31821147454258764 \n",
      "\n",
      "Number of Layer : 4\n",
      "Optimize result :  0.22715314894757405 \n",
      "\n",
      "Number of Layer : 5\n",
      "Optimize result :  0.18509645896182578 \n",
      "\n",
      "Number of Layer : 6\n",
      "Optimize result :  0.038702102301826316 \n",
      "\n",
      "Number of Layer : 7\n",
      "Optimize result :  5.7628878452367046e-05 \n",
      "\n",
      "Number of Layer : 8\n",
      "Optimize result :  9.202460593801992e-05 \n",
      "\n"
     ]
    }
   ],
   "source": [
    "for i in range(len(number_layers)):\n",
    "    num_layers=number_layers[i]\n",
    "    print(\"Number of Layer : \" + str(num_layers))\n",
    "    p = ParameterVector('p', 8*num_layers) \n",
    "    #angle = np.random.uniform(0,2*pi,8*num_layers)\n",
    "    angle = np.zeros(8*num_layers)\n",
    "    bnds=[(0,2*pi)]*num_layers*8\n",
    "    opt_ans=minimize(state_distance,x0=angle,method='SLSQP',bounds=bnds)\n",
    "    converge_result.append(opt_ans.fun)\n",
    "    parameter_set.append(opt_ans.x)     \n",
    "    status.append(opt_ans.success)\n",
    "    print(\"Optimize result : \",opt_ans.fun,'\\n')\n"
   ]
  },
  {
   "cell_type": "code",
   "execution_count": 8,
   "metadata": {},
   "outputs": [
    {
     "data": {
      "image/png": "[encoded data removed]",
      "text/plain": [
       "<Figure size 432x288 with 1 Axes>"
      ]
     },
     "metadata": {
      "needs_background": "light"
     },
     "output_type": "display_data"
    }
   ],
   "source": [
    "%matplotlib inline\n",
    "import matplotlib.pyplot as plt\n",
    "#plt.figure(figsize=(14,8))\n",
    "plt.xlabel('Layer (L)',fontsize=18)\n",
    "plt.ylabel('State Distance ($\\epsilon$)',fontsize=18)\n",
    "plt.plot(number_layers, converge_result,'r*--',label='Result(CZ)')\n",
    "my_x_ticks = np.arange(1, 10, 1)\n",
    "plt.xticks(my_x_ticks,fontsize=14)\n",
    "plt.yscale('log')\n",
    "#plt.xticks(fontsize=14)\n",
    "plt.yticks(fontsize=14)\n",
    "plt.legend()\n",
    "plt.show()"
   ]
  }
 ],
 "metadata": {
  "kernelspec": {
   "display_name": "Python 3",
   "language": "python",
   "name": "python3"
  },
  "language_info": {
   "codemirror_mode": {
    "name": "ipython",
    "version": 3
   },
   "file_extension": ".py",
   "mimetype": "text/x-python",
   "name": "python",
   "nbconvert_exporter": "python",
   "pygments_lexer": "ipython3",
   "version": "3.7.9"
  }
 },
 "nbformat": 4,
 "nbformat_minor": 4
}
